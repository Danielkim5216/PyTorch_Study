{
 "cells": [
  {
   "cell_type": "code",
   "execution_count": 1,
   "id": "c94c4b7c-461f-4902-ac3f-33a6349a8b32",
   "metadata": {},
   "outputs": [],
   "source": [
    "import numpy as np "
   ]
  },
  {
   "cell_type": "code",
   "execution_count": 3,
   "id": "2145cc34-39cf-4798-a2a7-03250aaa1f66",
   "metadata": {},
   "outputs": [
    {
     "name": "stdout",
     "output_type": "stream",
     "text": [
      "tensor의 차원 : 0\n",
      "tensor의 크기(shape) : ()\n"
     ]
    }
   ],
   "source": [
    "#0차원 tensor(scala)\n",
    "d = np.array(5)\n",
    "print(\"tensor의 차원 :\",d.ndim)\n",
    "print(\"tensor의 크기(shape) :\",d.shape)"
   ]
  },
  {
   "cell_type": "code",
   "execution_count": 4,
   "id": "19a7fcc0-5e73-4168-96c1-1c15019ba4dd",
   "metadata": {},
   "outputs": [
    {
     "name": "stdout",
     "output_type": "stream",
     "text": [
      "tensor의 차원 : 1\n",
      "tensor의 크기(shape) : (4,)\n"
     ]
    }
   ],
   "source": [
    "#1차원 tensor(행렬)\n",
    "d = np.array([1,2,3,4])\n",
    "print(\"tensor의 차원 :\",d.ndim)\n",
    "print(\"tensor의 크기(shape) :\",d.shape)"
   ]
  },
  {
   "cell_type": "code",
   "execution_count": 7,
   "id": "9f80f245-f8ca-4e0d-a341-7556151225e2",
   "metadata": {},
   "outputs": [
    {
     "name": "stdout",
     "output_type": "stream",
     "text": [
      "tensor의 차원 : 2\n",
      "tensor의 크기(shape) : (3, 4)\n"
     ]
    }
   ],
   "source": [
    "#2차원 tensor(행렬)\n",
    "d = np.array([[1,2,3,4],[5,6,7,8],[9,10,11,12]])\n",
    "print(\"tensor의 차원 :\",d.ndim)\n",
    "print(\"tensor의 크기(shape) :\",d.shape)"
   ]
  },
  {
   "cell_type": "code",
   "execution_count": 12,
   "id": "a9c45ae0-4224-4ac6-89c3-75cbdc02c646",
   "metadata": {},
   "outputs": [
    {
     "name": "stdout",
     "output_type": "stream",
     "text": [
      "tensor의 차원 : 3\n",
      "tensor의 크기(shape) : (2, 3, 5)\n"
     ]
    }
   ],
   "source": [
    "#3차원 tensor(다차원배열)\n",
    "d = np.array([\n",
    "            [[1, 2, 3, 4, 5], [6, 7, 8, 9, 10], \n",
    "             [10, 11, 12, 13, 14]],[[15, 16, 17, 18, 19], \n",
    "            [19, 20, 21, 22, 23], [23, 24, 25, 26, 27]]\n",
    "            ])\n",
    "print(\"tensor의 차원 :\",d.ndim)\n",
    "print(\"tensor의 크기(shape) :\",d.shape)"
   ]
  },
  {
   "cell_type": "code",
   "execution_count": 13,
   "id": "66fb9137-5515-450e-910d-e2643543d6cf",
   "metadata": {},
   "outputs": [
    {
     "name": "stdout",
     "output_type": "stream",
     "text": [
      "[9 6 8]\n",
      "[7 2 2]\n"
     ]
    }
   ],
   "source": [
    "#vector와 metrix의 plus , minus \n",
    "A = np.array([8,4,5])\n",
    "B = np.array([1,2,3])\n",
    "print(A+B)\n",
    "print(A-B)"
   ]
  },
  {
   "cell_type": "code",
   "execution_count": 14,
   "id": "e910841b-4dd9-405e-9b4e-1490e837a337",
   "metadata": {},
   "outputs": [
    {
     "name": "stdout",
     "output_type": "stream",
     "text": [
      "32\n"
     ]
    }
   ],
   "source": [
    "#vector 내적 inner product\n",
    "A = np.array([1,2,3])\n",
    "B = np.array([4,5,6])\n",
    "print(np.dot(A,B)) #1x4 + 2x5 +3x6 = 32"
   ]
  },
  {
   "cell_type": "code",
   "execution_count": 17,
   "id": "86164c8f-afe4-4fef-9e71-f1ffc049c357",
   "metadata": {},
   "outputs": [
    {
     "name": "stdout",
     "output_type": "stream",
     "text": [
      "[[23 31]\n",
      " [34 46]]\n"
     ]
    }
   ],
   "source": [
    "#행렬곱\n",
    "A = np.array([[1,3],[2,4]])\n",
    "B = np.array([[5,7],[6,8]])\n",
    "print(np.matmul(A,B))"
   ]
  }
 ],
 "metadata": {
  "kernelspec": {
   "display_name": "Python 3 (ipykernel)",
   "language": "python",
   "name": "python3"
  },
  "language_info": {
   "codemirror_mode": {
    "name": "ipython",
    "version": 3
   },
   "file_extension": ".py",
   "mimetype": "text/x-python",
   "name": "python",
   "nbconvert_exporter": "python",
   "pygments_lexer": "ipython3",
   "version": "3.12.9"
  }
 },
 "nbformat": 4,
 "nbformat_minor": 5
}
