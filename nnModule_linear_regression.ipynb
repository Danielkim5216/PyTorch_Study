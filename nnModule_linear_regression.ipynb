{
 "cells": [
  {
   "cell_type": "code",
   "execution_count": 2,
   "id": "23c0f666-b27b-4988-a3ef-ef057f4e1e07",
   "metadata": {},
   "outputs": [],
   "source": [
    "import torch \n",
    "import torch.nn as nn \n",
    "import torch.nn.functional as F"
   ]
  },
  {
   "cell_type": "code",
   "execution_count": 3,
   "id": "6c1a8580-9187-4a6c-a334-f7277ec915b9",
   "metadata": {},
   "outputs": [
    {
     "data": {
      "text/plain": [
       "<torch._C.Generator at 0x1d2edea5830>"
      ]
     },
     "execution_count": 3,
     "metadata": {},
     "output_type": "execute_result"
    }
   ],
   "source": [
    "torch.manual_seed(1)"
   ]
  },
  {
   "cell_type": "code",
   "execution_count": 4,
   "id": "f3884b3b-aa2f-48b6-94f1-4b9658d65fbc",
   "metadata": {},
   "outputs": [],
   "source": [
    "#Data \n",
    "x_train = torch.FloatTensor([[1],[2],[3]])\n",
    "y_train = torch.FloatTensor([[2],[4],[6]])"
   ]
  },
  {
   "cell_type": "code",
   "execution_count": 9,
   "id": "f75773a5-a409-43fe-8718-81cfe2591725",
   "metadata": {},
   "outputs": [
    {
     "name": "stdout",
     "output_type": "stream",
     "text": [
      "[Parameter containing:\n",
      "tensor([[-0.9414]], requires_grad=True), Parameter containing:\n",
      "tensor([0.5997], requires_grad=True)]\n"
     ]
    }
   ],
   "source": [
    "#model 선언 및 초기화. 단순 선형회귀이므로 input_dim = 1 , output_dim = 1\n",
    "model = nn.Linear(1,1)\n",
    "print(list(model.parameters()))"
   ]
  },
  {
   "cell_type": "code",
   "execution_count": 10,
   "id": "64894664-ad1e-4bd3-b9eb-7c45463fb65e",
   "metadata": {},
   "outputs": [],
   "source": [
    "optim = torch.optim.SGD(model.parameters(),lr=0.01)"
   ]
  },
  {
   "cell_type": "code",
   "execution_count": 11,
   "id": "d5ac7de1-1916-4ff5-b454-61abfd4d40f1",
   "metadata": {},
   "outputs": [
    {
     "name": "stdout",
     "output_type": "stream",
     "text": [
      "Epoch    0/2000 Cost: 33.679783\n",
      "Epoch  100/2000 Cost: 0.223159\n",
      "Epoch  200/2000 Cost: 0.137899\n",
      "Epoch  300/2000 Cost: 0.085213\n",
      "Epoch  400/2000 Cost: 0.052656\n",
      "Epoch  500/2000 Cost: 0.032539\n",
      "Epoch  600/2000 Cost: 0.020107\n",
      "Epoch  700/2000 Cost: 0.012425\n",
      "Epoch  800/2000 Cost: 0.007678\n",
      "Epoch  900/2000 Cost: 0.004744\n",
      "Epoch 1000/2000 Cost: 0.002932\n",
      "Epoch 1100/2000 Cost: 0.001812\n",
      "Epoch 1200/2000 Cost: 0.001119\n",
      "Epoch 1300/2000 Cost: 0.000692\n",
      "Epoch 1400/2000 Cost: 0.000427\n",
      "Epoch 1500/2000 Cost: 0.000264\n",
      "Epoch 1600/2000 Cost: 0.000163\n",
      "Epoch 1700/2000 Cost: 0.000101\n",
      "Epoch 1800/2000 Cost: 0.000062\n",
      "Epoch 1900/2000 Cost: 0.000039\n",
      "Epoch 2000/2000 Cost: 0.000024\n"
     ]
    }
   ],
   "source": [
    "epochs = 2000\n",
    "for epoch in range(epochs +1 ): \n",
    "    prediction = model(x_train)\n",
    "    loss = F.mse_loss(prediction,y_train)\n",
    "\n",
    "    optim.zero_grad()\n",
    "    loss.backward()\n",
    "    optim.step()\n",
    "    if epoch % 100 == 0:\n",
    "        print('Epoch {:4d}/{} Cost: {:.6f}'.format(epoch,epochs,loss.item()))"
   ]
  },
  {
   "cell_type": "code",
   "execution_count": 12,
   "id": "7c272d69-30af-497b-a417-a62077d19eb7",
   "metadata": {},
   "outputs": [
    {
     "name": "stdout",
     "output_type": "stream",
     "text": [
      "tensor([[7.9902]], grad_fn=<AddmmBackward0>)\n"
     ]
    }
   ],
   "source": [
    "new_var = torch.FloatTensor([[4.0]])\n",
    "pred_y = model(new_var)\n",
    "print(pred_y)"
   ]
  },
  {
   "cell_type": "code",
   "execution_count": 14,
   "id": "d34f789c-fe6e-4698-862a-9633ea9633ea",
   "metadata": {},
   "outputs": [
    {
     "name": "stdout",
     "output_type": "stream",
     "text": [
      "[Parameter containing:\n",
      "tensor([[1.9943]], requires_grad=True), Parameter containing:\n",
      "tensor([0.0128], requires_grad=True)]\n"
     ]
    }
   ],
   "source": [
    "print(list(model.parameters()))"
   ]
  },
  {
   "cell_type": "code",
   "execution_count": null,
   "id": "e6b003a0-6e2f-482c-b61b-d2f9496b927a",
   "metadata": {},
   "outputs": [],
   "source": [
    "#답 y = 2x "
   ]
  }
 ],
 "metadata": {
  "kernelspec": {
   "display_name": "Python 3 (ipykernel)",
   "language": "python",
   "name": "python3"
  },
  "language_info": {
   "codemirror_mode": {
    "name": "ipython",
    "version": 3
   },
   "file_extension": ".py",
   "mimetype": "text/x-python",
   "name": "python",
   "nbconvert_exporter": "python",
   "pygments_lexer": "ipython3",
   "version": "3.12.9"
  }
 },
 "nbformat": 4,
 "nbformat_minor": 5
}
